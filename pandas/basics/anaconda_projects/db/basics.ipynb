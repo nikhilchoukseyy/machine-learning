{
 "cells": [
  {
   "cell_type": "code",
   "execution_count": 1,
   "id": "b66830f7-509e-49f9-b1b9-6f316420846a",
   "metadata": {},
   "outputs": [],
   "source": [
    "import pandas as pd "
   ]
  },
  {
   "cell_type": "code",
   "execution_count": 3,
   "id": "248a57d3-80c4-4c45-a3fb-14c20307e0cb",
   "metadata": {},
   "outputs": [
    {
     "name": "stdout",
     "output_type": "stream",
     "text": [
      "2.2.3\n"
     ]
    }
   ],
   "source": [
    "print(pd.__version__)"
   ]
  },
  {
   "cell_type": "code",
   "execution_count": 4,
   "id": "b07284ca-01ed-4507-b40f-7c130636091d",
   "metadata": {},
   "outputs": [
    {
     "name": "stdout",
     "output_type": "stream",
     "text": [
      "0    10\n",
      "1    20\n",
      "2    30\n",
      "3    40\n",
      "4    50\n",
      "Name: Scores, dtype: int64\n"
     ]
    }
   ],
   "source": [
    "#A Series is like a single column of data — it has both values and index (labels).\n",
    "\n",
    "s = pd.Series([10,20,30,40,50] , name = \"Scores\")\n",
    "print(s)"
   ]
  },
  {
   "cell_type": "code",
   "execution_count": 5,
   "id": "181618b7-abed-4a3f-bfb5-5c4fdd8bd660",
   "metadata": {},
   "outputs": [
    {
     "name": "stdout",
     "output_type": "stream",
     "text": [
      "0    Nikhil\n",
      "1     Rahul\n",
      "2     Peter\n",
      "3    Sardar\n",
      "4    tyrion\n",
      "Name: students_name, dtype: object\n",
      "0    21\n",
      "1    21\n",
      "2    32\n",
      "3    40\n",
      "4    34\n",
      "Name: students_age, dtype: int64\n",
      "0     70\n",
      "1     32\n",
      "2     50\n",
      "3    -10\n",
      "4    100\n",
      "dtype: int64\n"
     ]
    }
   ],
   "source": [
    "#Task Create a Series for:Names of 5 students Their ages Their marks and print them.\n",
    "\n",
    "s_name = pd.Series([\"Nikhil\", \"Rahul\", \"Peter\" , \"Sardar\" , \"tyrion\"],name=\"students_name\")\n",
    "s_age = pd.Series([21,21,32,40,34], name=\"students_age\")\n",
    "s_marks = pd.Series([70,32,50,-10,100])\n",
    "\n",
    "print(s_name)\n",
    "print(s_age)\n",
    "print(s_marks)"
   ]
  },
  {
   "cell_type": "code",
   "execution_count": 7,
   "id": "70532c58-6260-4c07-9fc0-86da1b8f8577",
   "metadata": {},
   "outputs": [
    {
     "name": "stdout",
     "output_type": "stream",
     "text": [
      "      Title  Author  Price  Year\n",
      "0      hoah  Nikhil    700  2022\n",
      "1      apap   Rahul    320  1802\n",
      "2    weiooi   Peter    500  1990\n",
      "3  lalrahla  Sardar    610  2003\n",
      "4      hfla  tyrion   1008  1829\n",
      "shape :  (5, 4)\n",
      "info :  <bound method DataFrame.info of       Title  Author  Price  Year\n",
      "0      hoah  Nikhil    700  2022\n",
      "1      apap   Rahul    320  1802\n",
      "2    weiooi   Peter    500  1990\n",
      "3  lalrahla  Sardar    610  2003\n",
      "4      hfla  tyrion   1008  1829>\n"
     ]
    }
   ],
   "source": [
    "#Task Create a DataFrame for 5 books — with columns: Title, Author, Price, Year Display it Try df.shape and df.info() — see what they show.\n",
    "\n",
    "books_data = {\n",
    "  'Title' : [\"hoah\",'apap','weiooi','lalrahla','hfla'],\n",
    "  'Author' : [\"Nikhil\", \"Rahul\", \"Peter\" , \"Sardar\" , \"tyrion\"],\n",
    "  'Price' : [700,320,500,610,1008], \n",
    "  'Year' : [2022,1802,1990,2003,1829]\n",
    "}\n",
    "\n",
    "df = pd.DataFrame(books_data)\n",
    "print(df)\n",
    "print(\"shape : \", df.shape)\n",
    "print(\"info : \" ,df.info)"
   ]
  },
  {
   "cell_type": "code",
   "execution_count": 8,
   "id": "589ef7a9-4ea8-4d32-b158-de3b344600c7",
   "metadata": {},
   "outputs": [
    {
     "name": "stdout",
     "output_type": "stream",
     "text": [
      "  Title  Author  Price  Year\n",
      "0  hoah  Nikhil    700  2022\n",
      "1  apap   Rahul    320  1802\n"
     ]
    }
   ],
   "source": [
    "print(df.head(2))"
   ]
  },
  {
   "cell_type": "code",
   "execution_count": 9,
   "id": "813c55ca-d9d1-460b-afc7-d067e17606e0",
   "metadata": {},
   "outputs": [
    {
     "name": "stdout",
     "output_type": "stream",
     "text": [
      "      Title  Author  Price  Year\n",
      "3  lalrahla  Sardar    610  2003\n",
      "4      hfla  tyrion   1008  1829\n"
     ]
    }
   ],
   "source": [
    "print(df.tail(2))"
   ]
  },
  {
   "cell_type": "code",
   "execution_count": 10,
   "id": "691512a9-9779-488b-9997-aef796a950d5",
   "metadata": {},
   "outputs": [
    {
     "name": "stdout",
     "output_type": "stream",
     "text": [
      "Index(['Title', 'Author', 'Price', 'Year'], dtype='object')\n"
     ]
    }
   ],
   "source": [
    "print(df.columns)"
   ]
  },
  {
   "cell_type": "code",
   "execution_count": 12,
   "id": "75beafa0-68dc-4ea4-9202-0efda094e0a5",
   "metadata": {},
   "outputs": [
    {
     "name": "stdout",
     "output_type": "stream",
     "text": [
      "             Price         Year\n",
      "count     5.000000     5.000000\n",
      "mean    627.600000  1929.200000\n",
      "std     255.516731   104.850846\n",
      "min     320.000000  1802.000000\n",
      "25%     500.000000  1829.000000\n",
      "50%     610.000000  1990.000000\n",
      "75%     700.000000  2003.000000\n",
      "max    1008.000000  2022.000000\n"
     ]
    }
   ],
   "source": [
    "print(df.describe())"
   ]
  },
  {
   "cell_type": "code",
   "execution_count": 13,
   "id": "97a81929-f83c-4e8e-88b8-c421e0944675",
   "metadata": {},
   "outputs": [
    {
     "name": "stdout",
     "output_type": "stream",
     "text": [
      "0        hoah\n",
      "1        apap\n",
      "2      weiooi\n",
      "3    lalrahla\n",
      "4        hfla\n",
      "Name: Title, dtype: object\n"
     ]
    }
   ],
   "source": [
    "print(df['Title'])"
   ]
  },
  {
   "cell_type": "code",
   "execution_count": 18,
   "id": "3041df13-89bc-4c36-89cc-1d974d22b2d4",
   "metadata": {},
   "outputs": [
    {
     "name": "stdout",
     "output_type": "stream",
     "text": [
      "0     True\n",
      "1    False\n",
      "2     True\n",
      "3     True\n",
      "4     True\n",
      "Name: Price, dtype: bool\n"
     ]
    }
   ],
   "source": [
    "print(df['Price'] > 400)"
   ]
  },
  {
   "cell_type": "code",
   "execution_count": 23,
   "id": "b60f4b28-9d8d-40c7-892b-568637aefc48",
   "metadata": {},
   "outputs": [
    {
     "name": "stdout",
     "output_type": "stream",
     "text": [
      "      Title  Author  Price  Year\n",
      "0      hoah  Nikhil    700  2022\n",
      "3  lalrahla  Sardar    610  2003\n"
     ]
    }
   ],
   "source": [
    "print(df[(df['Price'] > 400) & (df['Year'] > 2000)])"
   ]
  },
  {
   "cell_type": "code",
   "execution_count": 25,
   "id": "5439d7b0-68c4-4ec4-b08f-1722346fd44a",
   "metadata": {},
   "outputs": [
    {
     "name": "stdout",
     "output_type": "stream",
     "text": [
      "      Title  Author  Price  Year\n",
      "4      hfla  tyrion   1008  1829\n",
      "0      hoah  Nikhil    700  2022\n",
      "3  lalrahla  Sardar    610  2003\n",
      "2    weiooi   Peter    500  1990\n",
      "1      apap   Rahul    320  1802\n"
     ]
    }
   ],
   "source": [
    "print(df.sort_values(by='Price' ,ascending=False))"
   ]
  },
  {
   "cell_type": "code",
   "execution_count": 26,
   "id": "db39dbf2-d1ed-45f4-99d6-545b65d6dd13",
   "metadata": {},
   "outputs": [
    {
     "name": "stdout",
     "output_type": "stream",
     "text": [
      "      Title  Author  Price  Year\n",
      "1      apap   Rahul    320  1802\n",
      "4      hfla  tyrion   1008  1829\n",
      "2    weiooi   Peter    500  1990\n",
      "3  lalrahla  Sardar    610  2003\n",
      "0      hoah  Nikhil    700  2022\n"
     ]
    }
   ],
   "source": [
    "print(df.sort_values(by=['Year', 'Price'], ascending=[True, False]))"
   ]
  },
  {
   "cell_type": "code",
   "execution_count": 29,
   "id": "b7a43287-adf8-44d4-82ae-40960955ec96",
   "metadata": {},
   "outputs": [],
   "source": [
    "import numpy as np \n",
    "data = {\n",
    "    'Name': ['Nikhil', 'Rahul', 'Peter', 'Rahul', np.nan],\n",
    "    'Age': [21, np.nan, 32, 21, 25],\n",
    "    'Marks': [70, 32, np.nan, 32, 100],\n",
    "    'City': ['Bhopal', 'Delhi', 'Mumbai', 'Delhi', None]\n",
    "}"
   ]
  },
  {
   "cell_type": "code",
   "execution_count": 30,
   "id": "ed65277c-de81-4ab1-a664-124a83ababd7",
   "metadata": {},
   "outputs": [],
   "source": [
    "df = pd.DataFrame(data)"
   ]
  },
  {
   "cell_type": "code",
   "execution_count": 31,
   "id": "ae6dc931-2434-44e2-8ee8-73e312673ae4",
   "metadata": {},
   "outputs": [
    {
     "name": "stdout",
     "output_type": "stream",
     "text": [
      "     Name   Age  Marks    City\n",
      "0  Nikhil  21.0   70.0  Bhopal\n",
      "1   Rahul   NaN   32.0   Delhi\n",
      "2   Peter  32.0    NaN  Mumbai\n",
      "3   Rahul  21.0   32.0   Delhi\n",
      "4     NaN  25.0  100.0    None\n"
     ]
    }
   ],
   "source": [
    "print(df)"
   ]
  },
  {
   "cell_type": "code",
   "execution_count": 32,
   "id": "0b65a31a-9169-42b1-bf7e-9d786c0fbf94",
   "metadata": {},
   "outputs": [
    {
     "name": "stdout",
     "output_type": "stream",
     "text": [
      "    Name    Age  Marks   City\n",
      "0  False  False  False  False\n",
      "1  False   True  False  False\n",
      "2  False  False   True  False\n",
      "3  False  False  False  False\n",
      "4   True  False  False   True\n"
     ]
    }
   ],
   "source": [
    "print(df.isnull())"
   ]
  },
  {
   "cell_type": "code",
   "execution_count": 33,
   "id": "6af8b922-3fe6-4227-8dc2-739f59e9b273",
   "metadata": {},
   "outputs": [
    {
     "name": "stdout",
     "output_type": "stream",
     "text": [
      "Name     1\n",
      "Age      1\n",
      "Marks    1\n",
      "City     1\n",
      "dtype: int64\n"
     ]
    }
   ],
   "source": [
    "print(df.isnull().sum())"
   ]
  },
  {
   "cell_type": "code",
   "execution_count": 34,
   "id": "3e35be9f-b44d-45f4-8e2b-616d8cfde5ad",
   "metadata": {},
   "outputs": [],
   "source": [
    "# to remove incomplete rows df.dropna()"
   ]
  },
  {
   "cell_type": "code",
   "execution_count": 38,
   "id": "274c680a-7b41-4640-a2b7-c617f01c695a",
   "metadata": {},
   "outputs": [],
   "source": [
    "df['Age'].fillna(0, inplace=True)"
   ]
  },
  {
   "cell_type": "code",
   "execution_count": 42,
   "id": "0cfd72f3-faee-48ef-bab0-9758a1af8bac",
   "metadata": {
    "scrolled": true
   },
   "outputs": [],
   "source": [
    "df['Marks'] = df['Marks'].fillna(df['Marks'].mean())\n",
    "df['Age'] = df['Age'].fillna(df['Age'].median())"
   ]
  },
  {
   "cell_type": "code",
   "execution_count": 43,
   "id": "e9a132fa-51d6-4608-949f-7a7dd21f3809",
   "metadata": {},
   "outputs": [
    {
     "name": "stdout",
     "output_type": "stream",
     "text": [
      "0    False\n",
      "1    False\n",
      "2    False\n",
      "3    False\n",
      "4    False\n",
      "dtype: bool\n"
     ]
    }
   ],
   "source": [
    "print(df.duplicated())"
   ]
  },
  {
   "cell_type": "code",
   "execution_count": null,
   "id": "a391537f-8c38-4360-9e19-b8f793d5733c",
   "metadata": {},
   "outputs": [],
   "source": []
  }
 ],
 "metadata": {
  "kernelspec": {
   "display_name": "Python [conda env:base] *",
   "language": "python",
   "name": "conda-base-py"
  },
  "language_info": {
   "codemirror_mode": {
    "name": "ipython",
    "version": 3
   },
   "file_extension": ".py",
   "mimetype": "text/x-python",
   "name": "python",
   "nbconvert_exporter": "python",
   "pygments_lexer": "ipython3",
   "version": "3.13.5"
  }
 },
 "nbformat": 4,
 "nbformat_minor": 5
}
