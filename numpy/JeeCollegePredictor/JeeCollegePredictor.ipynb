{
 "cells": [
  {
   "cell_type": "code",
   "execution_count": 1,
   "id": "d74563ed-2d18-4fcb-a055-7ec9be6fddfe",
   "metadata": {},
   "outputs": [],
   "source": [
    "import pandas as pd"
   ]
  },
  {
   "cell_type": "code",
   "execution_count": 2,
   "id": "c262de42-0cb7-42b0-b145-79f8f705af54",
   "metadata": {},
   "outputs": [],
   "source": [
    "excel_file = \"2024Round5.xlsx\""
   ]
  },
  {
   "cell_type": "code",
   "execution_count": 7,
   "id": "d47583e8-112b-4a6d-a19d-37ef169829c2",
   "metadata": {
    "scrolled": true
   },
   "outputs": [],
   "source": [
    "df = pd.read_excel(excel_file, sheet_name=0)"
   ]
  },
  {
   "cell_type": "code",
   "execution_count": 8,
   "id": "7e0a4331-e59c-4864-87f0-21c908b34fec",
   "metadata": {},
   "outputs": [],
   "source": [
    "csv_file = \"2024Round5.csv\""
   ]
  },
  {
   "cell_type": "code",
   "execution_count": 9,
   "id": "79ff4ec7-be0c-4c75-8579-fa93c2ed7704",
   "metadata": {},
   "outputs": [],
   "source": [
    "df.to_csv(csv_file , index=False)"
   ]
  },
  {
   "cell_type": "code",
   "execution_count": 10,
   "id": "6b4ca973-bf82-4b4d-9312-289ad51601ac",
   "metadata": {},
   "outputs": [],
   "source": [
    "import numpy as np "
   ]
  },
  {
   "cell_type": "code",
   "execution_count": 17,
   "id": "78938220-e875-4960-ab53-4594d9abdecf",
   "metadata": {
    "scrolled": true
   },
   "outputs": [],
   "source": [
    "df = pd.read_csv(\"2024Round5.csv\" ,encoding='utf-8')"
   ]
  },
  {
   "cell_type": "code",
   "execution_count": 18,
   "id": "6394875d-2ef2-415a-bec9-c2d6ca1944cc",
   "metadata": {},
   "outputs": [
    {
     "name": "stdout",
     "output_type": "stream",
     "text": [
      "Shape : (11261, 9) , Columns :Index(['Year', 'Round', 'Institute', 'Academic Program Name', 'Quota',\n",
      "       'Seat Type', 'Gender', 'Opening Rank', 'Closing Rank'],\n",
      "      dtype='object')\n"
     ]
    }
   ],
   "source": [
    "print(f\"Shape : {df.shape} , Columns :{df.columns}\")"
   ]
  },
  {
   "cell_type": "code",
   "execution_count": 19,
   "id": "d43b0b00-04fe-45b8-aa57-4a4f37a8525f",
   "metadata": {},
   "outputs": [
    {
     "name": "stdout",
     "output_type": "stream",
     "text": [
      "   Year  Round                                   Institute  \\\n",
      "0  2024      5  Indian Institute of Technology Bhubaneswar   \n",
      "1  2024      5  Indian Institute of Technology Bhubaneswar   \n",
      "2  2024      5  Indian Institute of Technology Bhubaneswar   \n",
      "3  2024      5  Indian Institute of Technology Bhubaneswar   \n",
      "4  2024      5  Indian Institute of Technology Bhubaneswar   \n",
      "\n",
      "                               Academic Program Name Quota Seat Type  \\\n",
      "0  Civil Engineering (4 Years, Bachelor of Techno...    AI      OPEN   \n",
      "1  Civil Engineering (4 Years, Bachelor of Techno...    AI      OPEN   \n",
      "2  Civil Engineering (4 Years, Bachelor of Techno...    AI       EWS   \n",
      "3  Civil Engineering (4 Years, Bachelor of Techno...    AI       EWS   \n",
      "4  Civil Engineering (4 Years, Bachelor of Techno...    AI   OBC-NCL   \n",
      "\n",
      "                                  Gender Opening Rank Closing Rank  \n",
      "0                         Gender-Neutral         9106        14782  \n",
      "1  Female-only (including Supernumerary)        18286        23024  \n",
      "2                         Gender-Neutral         2062         2267  \n",
      "3  Female-only (including Supernumerary)         3638         4265  \n",
      "4                         Gender-Neutral         4115         5231  \n"
     ]
    }
   ],
   "source": [
    "print(df.head())"
   ]
  },
  {
   "cell_type": "code",
   "execution_count": 20,
   "id": "db8209dc-b1df-4a7f-b7df-2888ce70432a",
   "metadata": {},
   "outputs": [],
   "source": [
    "data = df.to_records(index = False)"
   ]
  },
  {
   "cell_type": "code",
   "execution_count": 28,
   "id": "c4d99da8-a68c-4461-8397-72e556f55de8",
   "metadata": {},
   "outputs": [],
   "source": [
    "df.columns = [col.strip().replace(' ' , '_') for col in df.columns]"
   ]
  },
  {
   "cell_type": "code",
   "execution_count": 30,
   "id": "2af53112-7975-423a-a320-549ef1e74c2d",
   "metadata": {},
   "outputs": [
    {
     "name": "stdout",
     "output_type": "stream",
     "text": [
      "Index(['Year', 'Round', 'Institute', 'Academic_Program_Name', 'Quota',\n",
      "       'Seat_Type', 'Gender', 'Opening_Rank', 'Closing_Rank'],\n",
      "      dtype='object')\n"
     ]
    }
   ],
   "source": [
    "print(df.columns)"
   ]
  },
  {
   "cell_type": "code",
   "execution_count": 31,
   "id": "f1e9159e-f4dd-4cba-a796-f285a2ff9912",
   "metadata": {},
   "outputs": [],
   "source": [
    "data = df.to_records(index=False)"
   ]
  },
  {
   "cell_type": "code",
   "execution_count": 32,
   "id": "df785016-124d-402c-8e0b-41765dd922e5",
   "metadata": {},
   "outputs": [],
   "source": [
    "df[\"Closing_Rank\"] = pd.to_numeric(df['Closing_Rank'] , errors='coerce')"
   ]
  },
  {
   "cell_type": "code",
   "execution_count": 33,
   "id": "d83d72b6-cca3-4807-a573-3167be651316",
   "metadata": {},
   "outputs": [],
   "source": [
    "df['Opening_Rank'] = pd.to_numeric(df['Opening_Rank'] ,errors='coerce')"
   ]
  },
  {
   "cell_type": "code",
   "execution_count": 35,
   "id": "62e2b3db-4f2f-42c9-bf74-d8ac6a5afa07",
   "metadata": {},
   "outputs": [],
   "source": [
    "df_clean = df.dropna(subset=['Closing_Rank','Opening_Rank'])"
   ]
  },
  {
   "cell_type": "code",
   "execution_count": 36,
   "id": "2c0c61f1-7fd8-4a9a-ad7c-1d345d63ff6a",
   "metadata": {},
   "outputs": [],
   "source": [
    "data = df_clean.to_records(index = False)"
   ]
  },
  {
   "cell_type": "code",
   "execution_count": 38,
   "id": "630e6e81-b29f-4f80-9cac-6daec3e68f4b",
   "metadata": {},
   "outputs": [
    {
     "name": "stdout",
     "output_type": "stream",
     "text": [
      "[(2024, 5, 'Indian Institute of Technology Bhubaneswar', 'Civil Engineering (4 Years, Bachelor of Technology)', 'AI', 'ST', 'Gender-Neutral', 753., 977.)\n",
      " (2024, 5, 'Indian Institute of Technology Bhubaneswar', 'Computer Science and Engineering (4 Years, Bachelor of Technology)', 'AI', 'OPEN (PwD)', 'Female-only (including Supernumerary)', 197., 197.)\n",
      " (2024, 5, 'Indian Institute of Technology Bhubaneswar', 'Computer Science and Engineering (4 Years, Bachelor of Technology)', 'AI', 'EWS', 'Gender-Neutral', 400., 466.)\n",
      " ...\n",
      " (2024, 5, 'Jawaharlal Nehru University, Delhi', 'Electronics and Communication Engineering (4 Years, Bachelor of Technology)', 'AI', 'OPEN (PwD)', 'Gender-Neutral', 947., 947.)\n",
      " (2024, 5, 'Jawaharlal Nehru University, Delhi', 'Electronics and Communication Engineering (4 Years, Bachelor of Technology)', 'AI', 'SC (PwD)', 'Gender-Neutral', 215., 215.)\n",
      " (2024, 5, 'Puducherry Technological University, Puducherry', 'Computer Science and Engineering (4 Years, Bachelor of Technology)', 'AI', 'EWS (PwD)', 'Gender-Neutral', 382., 382.)]\n"
     ]
    }
   ],
   "source": [
    "print(data[data['Closing_Rank'] < 1000])"
   ]
  },
  {
   "cell_type": "code",
   "execution_count": 45,
   "id": "f42f8b32-7822-4bd1-b43b-2836d7204f28",
   "metadata": {},
   "outputs": [],
   "source": [
    "def predict_college(): \n",
    "    user_rank = int(input('Enter your rank : '))\n",
    "    user_category = input('Enter your Category [ OPEN , EWS , OBC-NCL , SC , ST , OPEN (PwD) ,OBC-NCL (PwD),EWS (PwD) , OBC-NCL (PwD) , SC (PwD) , ST (PwD)] :- ')\n",
    "    user_gender = input('Enter your gender [Gender-Neutral , Female-only (including Supernumerary) ] : ')\n",
    "    user_quota = input(\"Enter you quota [AI , HS , OS ] : \")\n",
    "    \n",
    "    mask_rank = (data['Closing_Rank'] >= user_rank)\n",
    "    mask_category = (data['Seat_Type'] == user_category ) \n",
    "    mask_gender = (data['Gender'] == user_gender)\n",
    "    mask_quota = (data['Quota'] == user_quota)\n",
    "\n",
    "    mask = mask_rank & mask_category & mask_gender & mask_quota\n",
    "\n",
    "    eligible = data[mask]\n",
    "\n",
    "    eligible_sorted = np.sort(eligible , order = \"Closing_Rank\")\n",
    "\n",
    "    if len(eligible_sorted) == 0:\n",
    "        print(\"❌ No eligible colleges found for this rank/category.\")\n",
    "        return\n",
    "        \n",
    "    print(f\"Top eligible colleges:\")\n",
    "    for i, row in enumerate(eligible_sorted, start=1):\n",
    "        print(f\"{i}. {row['Institute']} — {row['Academic_Program_Name']} | Closing Rank: {row['Closing_Rank']}\")"
   ]
  },
  {
   "cell_type": "code",
   "execution_count": null,
   "id": "f3744b0f-11a0-4732-b7e7-ca98ed6f665c",
   "metadata": {},
   "outputs": [
    {
     "name": "stdout",
     "output_type": "stream",
     "text": [
      "Enter your rank :  10000\n",
      "Enter your Category [ OPEN , EWS , OBC-NCL , SC , ST , OPEN (PwD) ,OBC-NCL (PwD),EWS (PwD) , OBC-NCL (PwD) , SC (PwD) , ST (PwD)] :-  OBC-NCL\n",
      "Enter your gender [Gender-Neutral , Female-only (including Supernumerary) ] :  Gender-Neutral\n",
      "Enter you quota [AI , HS , OS ] :  AI\n"
     ]
    },
    {
     "name": "stdout",
     "output_type": "stream",
     "text": [
      "Top eligible colleges:\n",
      "1. Indian Institute of Information Technology, Design & Manufacturing, Kancheepuram — Electronics and Communication Engineering (4 Years, Bachelor of Technology) | Closing Rank: 10157.0\n",
      "2. Indian Institute of Information Technology Bhopal — Computer Science and Engineering (Data Science) (4 Years, Bachelor of Technology) | Closing Rank: 10496.0\n",
      "3. Indian Institute of Information Technology (IIIT)Kota, Rajasthan — Computer Science and Engineering (4 Years, Bachelor of Technology) | Closing Rank: 10658.0\n",
      "4. Indian Institute of Information Technology Bhopal — Computer Science and Engineering (Artificial Intelligence) (4 Years, Bachelor of Technology) | Closing Rank: 10710.0\n",
      "5. Indian Institute of Information Technology Bhopal — Computer Science and Engineering (4 Years, Bachelor of Technology) | Closing Rank: 10997.0\n",
      "6. Indian Institute of Information Technology (IIIT) Pune — Electronics and Communication Engineering (4 Years, Bachelor of Technology) | Closing Rank: 11092.0\n",
      "7. Indian Institute of Information Technology (IIIT), Sri City, Chittoor — Computer Science and Engineering (4 Years, Bachelor of Technology) | Closing Rank: 11112.0\n",
      "8. Jawaharlal Nehru University, Delhi — Computer Science and Engineering (4 Years, Bachelor of Technology) | Closing Rank: 11255.0\n",
      "9. Indian Institute of Information Technology, Design & Manufacturing, Kancheepuram — B.Tech. in Electronics and Communication Engineering and M.Tech. in VLSI Design (5 Years, Bachelor and Master of Technology (Dual Degree)) | Closing Rank: 11284.0\n",
      "10. Indian Institute of Information Technology Surat — Computer Science and Engineering (4 Years, Bachelor of Technology) | Closing Rank: 11302.0\n",
      "11. Indian Institute of Information Technology(IIIT), Vadodara, Gujrat — Information Technology (4 Years, Bachelor of Technology) | Closing Rank: 11316.0\n",
      "12. Indian Institute of Information Technology, Design & Manufacturing, Kancheepuram — B.Tech. in Electronics and Communication Engineering and M.Tech. in Communication Systems (5 Years, Bachelor and Master of Technology (Dual Degree)) | Closing Rank: 11387.0\n",
      "13. Indian Institute of Information Technology Bhopal — Computer Science and Engineering (Cyber Security) (4 Years, Bachelor of Technology) | Closing Rank: 11432.0\n",
      "14. Indian Institute of Information Technology (IIIT)Kota, Rajasthan — Artificial Intelligence and Data Engineering (4 Years, Bachelor of Technology) | Closing Rank: 11440.0\n",
      "15. Indian Institute of Information Technology (IIIT) Nagpur — Computer Science Engineering (Artificial lntelligence and Machine Learning) (4 Years, Bachelor of Technology) | Closing Rank: 11474.0\n",
      "16. Indian Institute of Information Technology (IIIT) Nagpur — Computer Science and Engineering (4 Years, Bachelor of Technology) | Closing Rank: 11755.0\n",
      "17. Indian Institute of Information Technology Tiruchirappalli — Computer Science and Engineering (4 Years, Bachelor of Technology) | Closing Rank: 11994.0\n",
      "18. Indian Institute of Information Technology (IIIT), Sri City, Chittoor — Artificial Intelligence and Data Science (4 Years, Bachelor of Technology) | Closing Rank: 11996.0\n",
      "19. Indian Institute of Information Technology(IIIT) Kottayam — Computer Science and Engineering with specialization in Artificial Intelligence and Data Science (4 Years, Bachelor of Technology) | Closing Rank: 12084.0\n",
      "20. Indian Institute of Information Technology(IIIT) Una, Himachal Pradesh — Computer Science and Engineering (4 Years, Bachelor of Technology) | Closing Rank: 12090.0\n",
      "21. Indian Institute of Information Technology (IIIT) Nagpur — Computer Science Engineering (Data Science and Analytics) (4 Years, Bachelor of Technology) | Closing Rank: 12500.0\n",
      "22. Indian Institute of Information Technology Bhopal — Computer Science and Engineering (Cyber Physical System) (4 Years, Bachelor of Technology) | Closing Rank: 12626.0\n",
      "23. Indian Institute of Information Technology Bhopal — Information Technology (4 Years, Bachelor of Technology) | Closing Rank: 12751.0\n",
      "24. Indian Institute of Information Technology(IIIT) Kilohrad, Sonepat, Haryana — Computer Science and Engineering (4 Years, Bachelor of Technology) | Closing Rank: 12954.0\n",
      "25. International Institute of Information Technology, Naya Raipur — Electronics and Communication Engineering (4 Years, Bachelor of Technology) | Closing Rank: 13017.0\n",
      "26. Indian Institute of Information Technology(IIIT) Una, Himachal Pradesh — Computer Science and Engineering (Data Science) (4 Years, Bachelor of Technology) | Closing Rank: 13073.0\n",
      "27. Indian Institute of Information Technology(IIIT) Una, Himachal Pradesh — Computer Science and Engineering (Cyber Security) (4 Years, Bachelor of Technology) | Closing Rank: 13111.0\n",
      "28. Indian Institute of Information Technology Design & Manufacturing Kurnool, Andhra Pradesh — Computer Science and Engineering (4 Years, Bachelor of Technology) | Closing Rank: 13128.0\n",
      "29. Indian Institute of Information Technology (IIIT) Nagpur — Computer Science Engineering (Human Computer lnteraction and Gaming Technology) (4 Years, Bachelor of Technology) | Closing Rank: 13132.0\n",
      "30. International Institute of Information Technology, Bhubaneswar — Computer Science and Engineering (4 Years, Bachelor of Technology) | Closing Rank: 13241.0\n",
      "31. Indian Institute of Information Technology (IIIT) Ranchi — Computer Science and Engineering (with Specialization of Data Science and Artificial Intelligence) (4 Years, B. Tech / B. Tech (Hons.)) | Closing Rank: 13354.0\n",
      "32. Birla Institute of Technology, Mesra, Ranchi — Electronics and Communication Engineering (4 Years, Bachelor of Technology) | Closing Rank: 13424.0\n",
      "33. Indian Institute of Information Technology Guwahati — Electronics and Communication Engineering (4 Years, Bachelor of Technology) | Closing Rank: 13518.0\n",
      "34. Indian Institute of Information Technology (IIIT) Ranchi — Computer Science and Engineering (4 Years, Bachelor of Technology) | Closing Rank: 13690.0\n",
      "35. Indian Institute of Information Technology (IIIT), Sri City, Chittoor — Electronics and Communication Engineering (4 Years, Bachelor of Technology) | Closing Rank: 14065.0\n",
      "36. Indian Institute of Information Technology(IIIT) Una, Himachal Pradesh — Information Technology (4 Years, Bachelor of Technology) | Closing Rank: 14170.0\n",
      "37. Jawaharlal Nehru University, Delhi — Electronics and Communication Engineering (4 Years, Bachelor of Technology) | Closing Rank: 14360.0\n",
      "38. Indian Institute of Information Technology(IIIT) Kilohrad, Sonepat, Haryana — CSE ( Data Science & Analytics) (4 Years, Bachelor of Technology) | Closing Rank: 14380.0\n",
      "39. Indian Institute of Information Technology(IIIT) Kilohrad, Sonepat, Haryana — Information Technology (4 Years, Bachelor of Technology) | Closing Rank: 14394.0\n",
      "40. University of Hyderabad — Computer Science and Engineering (5 Years, Bachelor and Master of Technology (Dual Degree)) | Closing Rank: 14417.0\n",
      "41. Indian institute of information technology, Raichur, Karnataka — Computer Science and Engineering (4 Years, Bachelor of Technology) | Closing Rank: 14422.0\n",
      "42. Indian Institute of Information Technology Design & Manufacturing Kurnool, Andhra Pradesh — Artificial Intelligence and Data Science (4 Years, Bachelor of Technology) | Closing Rank: 14516.0\n",
      "43. Indian Institute of Information Technology(IIIT) Kottayam — Computer Science and Engineering (4 Years, Bachelor of Technology) | Closing Rank: 14629.0\n",
      "44. Indian Institute of Information Technology Bhopal — Electronics and Communication Engineering (4 Years, Bachelor of Technology) | Closing Rank: 14641.0\n",
      "45. Birla Institute of Technology, Mesra, Ranchi — Electrical and Electronics Engineering (4 Years, Bachelor of Technology) | Closing Rank: 14718.0\n",
      "46. Indian Institute of Information Technology (IIIT)Kota, Rajasthan — Electronics and Communication Engineering (4 Years, Bachelor of Technology) | Closing Rank: 14779.0\n",
      "47. Birla Institute of Technology, Mesra, Ranchi — Mathematics and Computing (5 Years, Integrated Master of Science) | Closing Rank: 14854.0\n",
      "48. Indian Institute of Information Technology(IIIT) Kottayam — Computer Science and Engineering with specialization in Cyber Security (4 Years, Bachelor of Technology) | Closing Rank: 14983.0\n",
      "49. Indian Institute of Information Technology Tiruchirappalli — Electronics and Communication Engineering (4 Years, Bachelor of Technology) | Closing Rank: 15120.0\n",
      "50. Indian Institute of Information Technology, Vadodara International Campus Diu (IIITVICD) — Computer Science and Engineering (4 Years, Bachelor of Technology) | Closing Rank: 15207.0\n",
      "51. Indian Institute of Information Technology Design & Manufacturing Kurnool, Andhra Pradesh — Computer Science and Engineering (5 Years, Bachelor and Master of Technology (Dual Degree)) | Closing Rank: 15367.0\n",
      "52. International Institute of Information Technology, Bhubaneswar — Information Technology (4 Years, Bachelor of Technology) | Closing Rank: 15432.0\n",
      "53. Indian Institute of Information Technology(IIIT) Kottayam — Electronics and Communication Engineering (4 Years, Bachelor of Technology) | Closing Rank: 15467.0\n",
      "54. Indian Institute of Information Technology (IIIT) Nagpur — Electronics and Communication Engineering (Internet of Things) (4 Years, Bachelor of Technology) | Closing Rank: 15472.0\n",
      "55. International Institute of Information Technology, Bhubaneswar — Computer Engineering (4 Years, Bachelor of Technology) | Closing Rank: 15505.0\n",
      "56. Indian Institute of Information Technology Surat — Electronics and Communication Engineering (4 Years, Bachelor of Technology) | Closing Rank: 15703.0\n",
      "57. Indian Institute of Information Technology Bhagalpur — Computer Science and Engineering (4 Years, Bachelor of Technology) | Closing Rank: 15743.0\n",
      "58. Indian Institute of Information Technology (IIIT) Nagpur — Electronics and Communication Engineering (4 Years, Bachelor of Technology) | Closing Rank: 15792.0\n",
      "59. Indian Institute of Information Technology, Design & Manufacturing, Kancheepuram — B.Tech in Mechanical Engineering and M.Tech in AI and Robotics (5 Years, B.Tech. + M.Tech./MS (Dual Degree)) | Closing Rank: 15798.0\n",
      "60. Indian institute of information technology, Raichur, Karnataka — Artificial Intelligence and Data Science (4 Years, Bachelor of Technology) | Closing Rank: 15884.0\n",
      "61. Indian Institute of Information Technology(IIIT) Dharwad — Computer Science and Engineering (4 Years, Bachelor of Technology) | Closing Rank: 15972.0\n",
      "62. Pt. Dwarka Prasad Mishra Indian Institute of Information Technology, Design & Manufacture Jabalpur — Mechanical Engineering (4 Years, Bachelor of Technology) | Closing Rank: 16157.0\n",
      "63. Indian Institute of Information Technology(IIIT) Una, Himachal Pradesh — Electronics and Communication Engineering (4 Years, Bachelor of Technology) | Closing Rank: 16185.0\n",
      "64. Indian institute of information technology, Raichur, Karnataka — Mathematics and Computing (4 Years, Bachelor of Technology) | Closing Rank: 16256.0\n",
      "65. Indian Institute of Information Technology, Agartala — Computer Science and Engineering (4 Years, Bachelor of Technology) | Closing Rank: 16297.0\n",
      "66. Indian Institute of Information Technology(IIIT) Kalyani, West Bengal — Computer Science and Engineering (4 Years, Bachelor of Technology) | Closing Rank: 16367.0\n",
      "67. Indian Institute of Information Technology, Design & Manufacturing, Kancheepuram — Mechanical Engineering (4 Years, Bachelor of Technology) | Closing Rank: 16443.0\n",
      "68. Birla Institute of Technology, Mesra, Ranchi — Quantitative Economics & Data Science (5 Years, Integrated Master of Science) | Closing Rank: 16456.0\n",
      "69. Indian Institute of Information Technology (IIIT) Ranchi — Electronics and Communication Engineering (with Specialization of Embedded Systems and Internet of Things) (4 Years, B. Tech / B. Tech (Hons.)) | Closing Rank: 16460.0\n",
      "70. Indian Institute of Information Technology(IIIT) Dharwad — Data Science and Artificial Intelligence (4 Years, Bachelor of Technology) | Closing Rank: 16643.0\n",
      "71. Indian Institute of Information Technology Bhagalpur — Mathematics and Computing (4 Years, Bachelor of Technology) | Closing Rank: 16801.0\n",
      "72. Indian Institute of Information Technology (IIIT) Ranchi — Electronics and Communication Engineering (4 Years, Bachelor of Technology) | Closing Rank: 16809.0\n",
      "73. Indian Institute of Information Technology Design & Manufacturing Kurnool, Andhra Pradesh — Electronics and Communication Engineering with specialization in Design and Manufacturing (4 Years, Bachelor of Technology) | Closing Rank: 16831.0\n",
      "74. Indian Institute of Information Technology(IIIT) Dharwad — Electronics and Communication Engineering (4 Years, Bachelor of Technology) | Closing Rank: 16841.0\n",
      "75. International Institute of Information Technology, Bhubaneswar — Electronics and Telecommunication Engineering (4 Years, Bachelor of Technology) | Closing Rank: 16850.0\n",
      "76. Indian Institute of Information Technology Design & Manufacturing Kurnool, Andhra Pradesh — Electronics and Communication Engineering (5 Years, Bachelor and Master of Technology (Dual Degree)) | Closing Rank: 16891.0\n",
      "77. Indian Institute of Information Technology(IIIT) Kalyani, West Bengal — Electronics and Communication Engineering (4 Years, Bachelor of Technology) | Closing Rank: 17077.0\n",
      "78. Indian Institute of Information Technology, Design & Manufacturing, Kancheepuram — Smart Manufacturing (4 Years, Bachelor of Technology) | Closing Rank: 17165.0\n",
      "79. Indian Institute of Information Technology Bhagalpur — Electronics and Communication Engineering (4 Years, Bachelor of Technology) | Closing Rank: 17203.0\n",
      "80. International Institute of Information Technology, Bhubaneswar — Electrical and Electronics Engineering (4 Years, Bachelor of Technology) | Closing Rank: 17238.0\n",
      "81. Institute of Infrastructure, Technology, Research and Management-Ahmedabad — Computer Engineering (4 Years, Bachelor of Technology) | Closing Rank: 18104.0\n",
      "82. Indian Institute of Information Technology Bhagalpur — Mechatronics and Automation Engineering (4 Years, Bachelor of Technology) | Closing Rank: 18110.0\n",
      "83. Indian Institute of Information Technology Design & Manufacturing Kurnool, Andhra Pradesh — Mechanical Engineering with specialization in Design and Manufacturing (4 Years, Bachelor of Technology) | Closing Rank: 18149.0\n",
      "84. Pt. Dwarka Prasad Mishra Indian Institute of Information Technology, Design & Manufacture Jabalpur — Smart Manufacturing (4 Years, Bachelor of Technology) | Closing Rank: 18176.0\n",
      "85. Indian Institute of Information Technology Design & Manufacturing Kurnool, Andhra Pradesh — Mechanical Engineering (5 Years, Bachelor and Master of Technology (Dual Degree)) | Closing Rank: 18228.0\n",
      "86. INDIAN INSTITUTE OF INFORMATION TECHNOLOGY SENAPATI MANIPUR — Computer Science and Engineering with specialization in Artificial Intelligence and Data Science (4 Years, Bachelor of Technology) | Closing Rank: 18235.0\n",
      "87. Birla Institute of Technology, Mesra, Ranchi — Mechanical Engineering (4 Years, Bachelor of Technology) | Closing Rank: 18290.0\n",
      "88. Birla Institute of Technology, Patna Off-Campus — Computer Science and Engineering (4 Years, Bachelor of Technology) | Closing Rank: 18466.0\n",
      "89. J.K. Institute of Applied Physics & Technology, Department of Electronics & Communication, University of Allahabad- Allahabad — Computer Science and Engineering with Major in Artificial Intelligence (4 Years, Bachelor of Technology) | Closing Rank: 18590.0\n",
      "90. INDIAN INSTITUTE OF INFORMATION TECHNOLOGY SENAPATI MANIPUR — Computer Science and Engineering (4 Years, Bachelor of Technology) | Closing Rank: 18624.0\n",
      "91. Puducherry Technological University, Puducherry — Information Technology (4 Years, Bachelor of Technology) | Closing Rank: 18862.0\n",
      "92. Puducherry Technological University, Puducherry — Electrical and Electronics Engineering (4 Years, Bachelor of Technology) | Closing Rank: 18997.0\n",
      "93. Puducherry Technological University, Puducherry — Computer Science and Engineering (4 Years, Bachelor of Technology) | Closing Rank: 19141.0\n",
      "94. Assam University, Silchar — Computer Science and Engineering (4 Years, Bachelor of Technology) | Closing Rank: 19161.0\n",
      "95. Birla Institute of Technology, Mesra, Ranchi — Civil Engineering (4 Years, Bachelor of Technology) | Closing Rank: 19326.0\n",
      "96. Central University of Rajasthan, Rajasthan — Computer Science and Engineering (4 Years, Bachelor of Technology) | Closing Rank: 19382.0\n",
      "97. Central institute of Technology Kokrajar, Assam — Computer Science and Engineering (4 Years, Bachelor of Technology) | Closing Rank: 19530.0\n",
      "98. Birla Institute of Technology, Mesra, Ranchi — Chemical Engineering (4 Years, Bachelor of Technology) | Closing Rank: 19536.0\n",
      "99. Birla Institute of Technology, Mesra, Ranchi — Bio Technology (4 Years, Bachelor of Technology) | Closing Rank: 19723.0\n",
      "100. School of Engineering, Tezpur University, Napaam, Tezpur — Computer Science and Engineering (4 Years, Bachelor of Technology) | Closing Rank: 19796.0\n",
      "101. INDIAN INSTITUTE OF INFORMATION TECHNOLOGY SENAPATI MANIPUR — Electronics and Communication Engineering (4 Years, Bachelor of Technology) | Closing Rank: 19882.0\n",
      "102. Birla Institute of Technology, Patna Off-Campus — Artificial Intelligence and Machine Learning (4 Years, Bachelor of Technology) | Closing Rank: 19893.0\n",
      "103. Puducherry Technological University, Puducherry — Electronics and Instrumentation Engineering (4 Years, Bachelor of Technology) | Closing Rank: 19916.0\n",
      "104. Puducherry Technological University, Puducherry — Chemical Engineering (4 Years, Bachelor of Technology) | Closing Rank: 20050.0\n",
      "105. National Institute of Advanced Manufacturing Technology, Ranchi — Computer Engineering (4 Years, Bachelor of Technology) | Closing Rank: 20121.0\n",
      "106. INDIAN INSTITUTE OF INFORMATION TECHNOLOGY SENAPATI MANIPUR — Electronics and Communication Engineering with specialization in VLSI and Embedded Systems (4 Years, Bachelor of Technology) | Closing Rank: 20128.0\n",
      "107. Birla Institute of Technology, Deoghar Off-Campus — Computer Science and Engineering (4 Years, Bachelor of Technology) | Closing Rank: 20157.0\n",
      "108. Puducherry Technological University, Puducherry — Electronics and Communication Engineering (4 Years, Bachelor of Technology) | Closing Rank: 20173.0\n",
      "109. Birla Institute of Technology, Mesra, Ranchi — Production and Industrial Engineering (4 Years, Bachelor of Technology) | Closing Rank: 20374.0\n",
      "110. Birla Institute of Technology, Mesra, Ranchi — Physics (5 Years, Integrated Master of Science) | Closing Rank: 20661.0\n",
      "111. Assam University, Silchar — Electronics and Communication Engineering (4 Years, Bachelor of Technology) | Closing Rank: 20863.0\n",
      "112. Birla Institute of Technology, Mesra, Ranchi — Food Engineering and Technology (4 Years, Bachelor of Technology) | Closing Rank: 20906.0\n",
      "113. Puducherry Technological University, Puducherry — Mechatronics Engineering (4 Years, Bachelor of Technology) | Closing Rank: 20959.0\n",
      "114. Central University of Rajasthan, Rajasthan — Electronics and Communication Engineering (4 Years, Bachelor of Technology) | Closing Rank: 21072.0\n",
      "115. Birla Institute of Technology, Patna Off-Campus — Electronics and Communication Engineering (4 Years, Bachelor of Technology) | Closing Rank: 21241.0\n",
      "116. J.K. Institute of Applied Physics & Technology, Department of Electronics & Communication, University of Allahabad- Allahabad — Electronics and Communication Engineering (4 Years, Bachelor of Technology) | Closing Rank: 21419.0\n",
      "117. Institute of Infrastructure, Technology, Research and Management-Ahmedabad — Electrical Engineering (4 Years, Bachelor of Technology) | Closing Rank: 21526.0\n",
      "118. Central University of Haryana — Computer Science and Engineering (4 Years, Bachelor of Technology) | Closing Rank: 21527.0\n",
      "119. Sant Longowal Institute of Engineering and Technology — Computer Science and Engineering (4 Years, Bachelor of Technology) | Closing Rank: 21600.0\n",
      "120. National Institute of Electronics and Information Technology, Aurangabad (Maharashtra) — Electronic Engineering (4 Years, Bachelor of Technology) | Closing Rank: 21666.0\n",
      "121. Birla Institute of Technology, Deoghar Off-Campus — Electronics and Communication Engineering (4 Years, Bachelor of Technology) | Closing Rank: 21673.0\n",
      "122. Gati Shakti Vishwavidyalaya, Vadodara — B.Tech in Artificial Intelligenece and Data Science (Transportation and Logistics) (4 Years, Bachelor of Technology) | Closing Rank: 21729.0\n",
      "123. Institute of Chemical Technology, Mumbai: Indian Oil Odisha Campus, Bhubaneswar — Chemical Engineering (5 Years, Integrated Masters in Technology) | Closing Rank: 21850.0\n",
      "124. Birla Institute of Technology, Deoghar Off-Campus — Electrical and Electronics Engineering (4 Years, Bachelor of Technology) | Closing Rank: 22016.0\n",
      "125. National Institute of Advanced Manufacturing Technology, Ranchi — Mechanical Engineering (4 Years, Bachelor of Technology) | Closing Rank: 22700.0\n",
      "126. Shri Mata Vaishno Devi University, Katra, Jammu & Kashmir — Computer Science and Engineering (4 Years, Bachelor of Technology) | Closing Rank: 22726.0\n",
      "127. Central institute of Technology Kokrajar, Assam — Civil Engineering (4 Years, Bachelor of Technology) | Closing Rank: 22824.0\n",
      "128. Institute of Infrastructure, Technology, Research and Management-Ahmedabad — Mechanical Engineering (4 Years, Bachelor of Technology) | Closing Rank: 23192.0\n",
      "129. Birla Institute of Technology, Patna Off-Campus — Electrical and Electronics Engineering (4 Years, Bachelor of Technology) | Closing Rank: 23214.0\n",
      "130. School of Studies of Engineering and Technology, Guru Ghasidas Vishwavidyalaya, Bilaspur — Computer Science and Engineering (4 Years, Bachelor of Technology) | Closing Rank: 23226.0\n",
      "131. Central institute of Technology Kokrajar, Assam — Electronics and Communication Engineering (4 Years, Bachelor of Technology) | Closing Rank: 23251.0\n",
      "132. Chhattisgarh Swami Vivekanada Technical University, Bhilai (CSVTU Bhilai) — Computer Science Engineering (Artificial Intelligence) (4 Years, B. Tech / B. Tech (Hons.)) | Closing Rank: 23266.0\n",
      "133. Institute of Engineering and Technology, Dr. H. S. Gour University. Sagar (A Central University) — Computer Science and Engineering (4 Years, Bachelor of Technology) | Closing Rank: 23270.0\n",
      "134. Chhattisgarh Swami Vivekanada Technical University, Bhilai (CSVTU Bhilai) — Computer Science Engineering (Data Science) (4 Years, B. Tech / B. Tech (Hons.)) | Closing Rank: 23292.0\n",
      "135. Birla Institute of Technology, Deoghar Off-Campus — Mechanical Engineering (4 Years, Bachelor of Technology) | Closing Rank: 23395.0\n",
      "136. Birla Institute of Technology, Patna Off-Campus — Mechanical Engineering (4 Years, Bachelor of Technology) | Closing Rank: 23525.0\n",
      "137. Institute of Infrastructure, Technology, Research and Management-Ahmedabad — Civil Engineering (4 Years, Bachelor of Technology) | Closing Rank: 24082.0\n",
      "138. University of Hyderabad — Materials Engineering (5 Years, Integrated Master of Technology) | Closing Rank: 24094.0\n",
      "139. School of Engineering, Tezpur University, Napaam, Tezpur — Electronics and Communication Engineering (4 Years, Bachelor of Technology) | Closing Rank: 24113.0\n",
      "140. Puducherry Technological University, Puducherry — Mechanical Engineering (4 Years, Bachelor of Technology) | Closing Rank: 24238.0\n",
      "141. Gati Shakti Vishwavidyalaya, Vadodara — B.Tech in Electronics & Communication Engineering (Rail Engineering) (4 Years, Bachelor of Technology) | Closing Rank: 24323.0\n",
      "142. Central University of Jammu — Computer Science and Engineering (4 Years, Bachelor of Technology) | Closing Rank: 24411.0\n",
      "143. Sant Longowal Institute of Engineering and Technology — Electronics and Communication Engineering (4 Years, Bachelor of Technology) | Closing Rank: 24424.0\n",
      "144. Central institute of Technology Kokrajar, Assam — Instrumentation Engineering (4 Years, Bachelor of Technology) | Closing Rank: 24946.0\n",
      "145. North Eastern Regional Institute of Science and Technology, Nirjuli-791109 (Itanagar),Arunachal Pradesh — Civil Engineering (4 Years, Bachelor of Technology) | Closing Rank: 25403.0\n",
      "146. North-Eastern Hill University, Shillong — Information Technology (4 Years, Bachelor of Technology) | Closing Rank: 25462.0\n",
      "147. Shri Mata Vaishno Devi University, Katra, Jammu & Kashmir — B.Tech in Mathematics and Computing (4 Years, Bachelor of Technology) | Closing Rank: 25775.0\n",
      "148. School of Engineering, Tezpur University, Napaam, Tezpur — Electrical Engineering (4 Years, Bachelor of Technology) | Closing Rank: 25801.0\n",
      "149. Gurukula Kangri Vishwavidyalaya, Haridwar — Computer Science and Engineering (4 Years, Bachelor of Technology) | Closing Rank: 26209.0\n",
      "150. Central University of Jammu — Computer Science and Engineering with specialization in Cyber Security (4 Years, Bachelor of Technology) | Closing Rank: 26252.0\n",
      "151. Birla Institute of Technology, Patna Off-Campus — Civil Engineering (4 Years, Bachelor of Technology) | Closing Rank: 26923.0\n",
      "152. Shri Mata Vaishno Devi University, Katra, Jammu & Kashmir — Electronics and Communication Engineering (4 Years, Bachelor of Technology) | Closing Rank: 27267.0\n",
      "153. Sant Longowal Institute of Engineering and Technology — Electrical Engineering (4 Years, Bachelor of Technology) | Closing Rank: 27272.0\n",
      "154. Gati Shakti Vishwavidyalaya, Vadodara — B.Tech in Electrical Engineering ( Rail Engineering) (4 Years, Bachelor of Technology) | Closing Rank: 27538.0\n",
      "155. Assam University, Silchar — Agricultural Engineering (4 Years, Bachelor of Technology) | Closing Rank: 27706.0\n",
      "156. Central University of Jammu — Electronics and Communication Engineering (4 Years, Bachelor of Technology) | Closing Rank: 27925.0\n",
      "157. Central University of Haryana — Electrical Engineering (4 Years, Bachelor of Technology) | Closing Rank: 28416.0\n",
      "158. School of Studies of Engineering and Technology, Guru Ghasidas Vishwavidyalaya, Bilaspur — Information Technology (4 Years, Bachelor of Technology) | Closing Rank: 28430.0\n",
      "159. Gati Shakti Vishwavidyalaya, Vadodara — B.Tech in Aviation Engineering (4 Years, Bachelor of Technology) | Closing Rank: 28475.0\n",
      "160. Gati Shakti Vishwavidyalaya, Vadodara — B.Tech in Mechanical Engineering ( Rail Engineering) (4 Years, Bachelor of Technology) | Closing Rank: 28510.0\n",
      "161. School of Studies of Engineering and Technology, Guru Ghasidas Vishwavidyalaya, Bilaspur — Electronics and Communication Engineering (4 Years, Bachelor of Technology) | Closing Rank: 28610.0\n",
      "162. Puducherry Technological University, Puducherry — Civil Engineering (4 Years, Bachelor of Technology) | Closing Rank: 28744.0\n",
      "163. Sant Longowal Institute of Engineering and Technology — Civil Engineering (4 Years, Bachelor of Technology) | Closing Rank: 28899.0\n",
      "164. Institute of Engineering and Technology, Dr. H. S. Gour University. Sagar (A Central University) — Aeronautical Engineering (4 Years, Bachelor of Technology) | Closing Rank: 29074.0\n",
      "165. Institute of Engineering and Technology, Dr. H. S. Gour University. Sagar (A Central University) — Electronics and Communication Engineering (4 Years, Bachelor of Technology) | Closing Rank: 29078.0\n",
      "166. North Eastern Regional Institute of Science and Technology, Nirjuli-791109 (Itanagar),Arunachal Pradesh — Agricultural Engineering (4 Years, Bachelor of Technology) | Closing Rank: 29236.0\n",
      "167. Central University of Jammu — Electronics and Communication Engineering (Avionics) (4 Years, Bachelor of Technology) | Closing Rank: 29380.0\n",
      "168. Shri Mata Vaishno Devi University, Katra, Jammu & Kashmir — Electrical Engineering (4 Years, Bachelor of Technology) | Closing Rank: 29406.0\n",
      "169. North-Eastern Hill University, Shillong — Electronics and Communication Engineering (4 Years, Bachelor of Technology) | Closing Rank: 29541.0\n",
      "170. Gurukula Kangri Vishwavidyalaya, Haridwar — Electronics and Communication Engineering (4 Years, Bachelor of Technology) | Closing Rank: 29739.0\n",
      "171. School of Engineering, Tezpur University, Napaam, Tezpur — Mechanical Engineering (4 Years, Bachelor of Technology) | Closing Rank: 29747.0\n",
      "172. CU Jharkhand — Integrated B. Tech. - M. Tech in Computer Science & Engineering (5 Years, Integrated B. Tech. and M. Tech.) | Closing Rank: 29829.0\n",
      "173. Gurukula Kangri Vishwavidyalaya, Haridwar — Electrical Engineering (4 Years, Bachelor of Technology) | Closing Rank: 30414.0\n",
      "174. Gati Shakti Vishwavidyalaya, Vadodara — B.Tech in Civil Engineering (Rail Engineering) (4 Years, Bachelor of Technology) | Closing Rank: 30639.0\n",
      "175. Central University of Rajasthan, Rajasthan — Bio Medical Engineering (4 Years, Bachelor of Technology) | Closing Rank: 30875.0\n",
      "176. School of Studies of Engineering and Technology, Guru Ghasidas Vishwavidyalaya, Bilaspur — Electrical Engineering (4 Years, Bachelor of Technology) | Closing Rank: 31338.0\n",
      "177. National Institute of Advanced Manufacturing Technology, Ranchi — Production and Industrial Engineering (4 Years, Bachelor of Technology) | Closing Rank: 31537.0\n",
      "178. National Institute of Advanced Manufacturing Technology, Ranchi — Metallurgy and Materials Engineering (4 Years, Bachelor of Technology) | Closing Rank: 31555.0\n",
      "179. Shri Mata Vaishno Devi University, Katra, Jammu & Kashmir — Mechanical Engineering (4 Years, Bachelor of Technology) | Closing Rank: 32534.0\n",
      "180. North-Eastern Hill University, Shillong — Energy Engineering (4 Years, Bachelor of Technology) | Closing Rank: 32653.0\n",
      "181. Shri Mata Vaishno Devi University, Katra, Jammu & Kashmir — Bio Technology (4 Years, Bachelor of Technology) | Closing Rank: 33127.0\n",
      "182. Central institute of Technology Kokrajar, Assam — Food Engineering and Technology (4 Years, Bachelor of Technology) | Closing Rank: 33291.0\n",
      "183. Shri Mata Vaishno Devi University, Katra, Jammu & Kashmir — Civil Engineering (4 Years, Bachelor of Technology) | Closing Rank: 33348.0\n",
      "184. School of Engineering, Tezpur University, Napaam, Tezpur — Civil Engineering (4 Years, Bachelor of Technology) | Closing Rank: 33852.0\n",
      "185. Central University of Haryana — Civil Engineering (4 Years, Bachelor of Technology) | Closing Rank: 33859.0\n",
      "186. School of Engineering, Tezpur University, Napaam, Tezpur — Bachelor of Design (4 Years, Bachelor of Design) | Closing Rank: 34528.0\n",
      "187. Sant Longowal Institute of Engineering and Technology — Chemical Engineering (4 Years, Bachelor of Technology) | Closing Rank: 34720.0\n",
      "188. Sant Longowal Institute of Engineering and Technology — Instrumentation and Control Engineering (4 Years, Bachelor of Technology) | Closing Rank: 34915.0\n",
      "189. Sant Longowal Institute of Engineering and Technology — Mechanical Engineering (4 Years, Bachelor of Technology) | Closing Rank: 35033.0\n",
      "190. School of Studies of Engineering and Technology, Guru Ghasidas Vishwavidyalaya, Bilaspur — Mechanical Engineering (4 Years, Bachelor of Technology) | Closing Rank: 35162.0\n",
      "191. Central University of Haryana — Printing and Packaging Technology (4 Years, Bachelor of Technology) | Closing Rank: 35334.0\n",
      "192. School of Studies of Engineering and Technology, Guru Ghasidas Vishwavidyalaya, Bilaspur — Civil Engineering (4 Years, Bachelor of Technology) | Closing Rank: 35758.0\n",
      "193. Chhattisgarh Swami Vivekanada Technical University, Bhilai (CSVTU Bhilai) — Civil Engineering (4 Years, Bachelor of Technology) | Closing Rank: 35867.0\n",
      "194. Sant Longowal Institute of Engineering and Technology — Chemistry (5 Years, Integrated Master of Science) | Closing Rank: 36031.0\n",
      "195. Gurukula Kangri Vishwavidyalaya, Haridwar — Mechanical Engineering (4 Years, Bachelor of Technology) | Closing Rank: 36292.0\n",
      "196. Sant Longowal Institute of Engineering and Technology — Mathematics (5 Years, Integrated Master of Science) | Closing Rank: 36305.0\n",
      "197. North-Eastern Hill University, Shillong — Biomedical Engineering (4 Years, Bachelor of Technology) | Closing Rank: 36592.0\n",
      "198. Indian Institute of Handloom Technology, Salem — Handloom and Textile Technology (4 Years, Bachelor of Technology) | Closing Rank: 36609.0\n",
      "199. National Institute of Food Technology Entrepreneurship and Management, Thanjavur — Food Technology (4 Years, Bachelor of Technology) | Closing Rank: 36784.0\n",
      "200. CU Jharkhand — Integrated B. Tech. - M. Tech in Electrical Engineering (5 Years, Integrated B. Tech. and M. Tech.) | Closing Rank: 36796.0\n",
      "201. Sant Longowal Institute of Engineering and Technology — Physics (5 Years, Integrated Master of Science) | Closing Rank: 36808.0\n",
      "202. School of Studies of Engineering and Technology, Guru Ghasidas Vishwavidyalaya, Bilaspur — Chemical Engineering (4 Years, Bachelor of Technology) | Closing Rank: 36869.0\n",
      "203. Indian Institute of Handloom Technology(IIHT), Varanasi — Handloom and Textile Technology (4 Years, Bachelor of Technology) | Closing Rank: 37637.0\n",
      "204. Indian Institute of Carpet Technology, Bhadohi — Carpet and Textile Technology (4 Years, Bachelor of Technology) | Closing Rank: 37808.0\n",
      "205. National Institute of Food Technology Entrepreneurship and Management, Kundli — Food Technology and Management (4 Years, Bachelor of Technology) | Closing Rank: 38117.0\n",
      "206. Institute of Engineering and Technology, Dr. H. S. Gour University. Sagar (A Central University) — Fashion and Apparel Engineering (4 Years, Bachelor of Technology) | Closing Rank: 38340.0\n",
      "207. School of Studies of Engineering and Technology, Guru Ghasidas Vishwavidyalaya, Bilaspur — Industrial and Production Engineering (4 Years, Bachelor of Technology) | Closing Rank: 38480.0\n",
      "208. CU Jharkhand — Integrated B. Tech. - M. Tech in Civil Engineering (5 Years, Integrated B. Tech. and M. Tech.) | Closing Rank: 38628.0\n",
      "209. Institute of Engineering and Technology, Dr. H. S. Gour University. Sagar (A Central University) — Dairy Engineering (4 Years, Bachelor of Technology) | Closing Rank: 38701.0\n",
      "210. School of Engineering, Tezpur University, Napaam, Tezpur — Food Engineering and Technology (4 Years, Bachelor of Technology) | Closing Rank: 38826.0\n",
      "211. Sant Longowal Institute of Engineering and Technology — Food Technology (4 Years, Bachelor of Technology) | Closing Rank: 38887.0\n",
      "212. CU Jharkhand — Integrated B. Tech.- M. Tech in Metallurgical & Materials Engineering (5 Years, Integrated B. Tech. and M. Tech.) | Closing Rank: 39002.0\n",
      "213. Institute of Engineering and Technology, Dr. H. S. Gour University. Sagar (A Central University) — Food Engineering and Technology (4 Years, Bachelor of Technology) | Closing Rank: 39359.0\n"
     ]
    }
   ],
   "source": [
    "predict_college()"
   ]
  },
  {
   "cell_type": "code",
   "execution_count": null,
   "id": "34d0dfd1-b2a0-4df2-befe-2d5059036a42",
   "metadata": {},
   "outputs": [],
   "source": []
  }
 ],
 "metadata": {
  "kernelspec": {
   "display_name": "Python [conda env:base] *",
   "language": "python",
   "name": "conda-base-py"
  },
  "language_info": {
   "codemirror_mode": {
    "name": "ipython",
    "version": 3
   },
   "file_extension": ".py",
   "mimetype": "text/x-python",
   "name": "python",
   "nbconvert_exporter": "python",
   "pygments_lexer": "ipython3",
   "version": "3.13.5"
  }
 },
 "nbformat": 4,
 "nbformat_minor": 5
}
