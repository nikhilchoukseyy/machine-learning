{
 "cells": [
  {
   "cell_type": "code",
   "execution_count": 3,
   "id": "6eb27cfd-579e-499d-9a58-e70abe00ae25",
   "metadata": {},
   "outputs": [],
   "source": [
    "import numpy as np"
   ]
  },
  {
   "cell_type": "code",
   "execution_count": 10,
   "id": "4a137554-ca62-4091-8b06-1e3b94c600cd",
   "metadata": {},
   "outputs": [],
   "source": [
    "import matplotlib.pyplot as plt "
   ]
  },
  {
   "cell_type": "code",
   "execution_count": null,
   "id": "21d6bbcd-9c23-40f8-a5e5-d688d49bd7e5",
   "metadata": {},
   "outputs": [],
   "source": [
    "np.random.seed(42)"
   ]
  },
  {
   "cell_type": "code",
   "execution_count": 5,
   "id": "e1307bce-536b-4b77-bf3d-5eeec154586f",
   "metadata": {},
   "outputs": [],
   "source": [
    "n_records = 50 "
   ]
  },
  {
   "cell_type": "code",
   "execution_count": 6,
   "id": "26cacdeb-9c9a-4e21-ac48-34d10460569e",
   "metadata": {},
   "outputs": [],
   "source": [
    "products = np.random.choice(['P1','P2','P3','P4','P5'],n_records)"
   ]
  },
  {
   "cell_type": "code",
   "execution_count": 7,
   "id": "6b02dfca-aad5-44f7-bfd6-b6a1e4e1be38",
   "metadata": {},
   "outputs": [],
   "source": [
    "regions = np.random.choice(['NORTH','SOUTH','WEST','EAST'],n_records)"
   ]
  },
  {
   "cell_type": "code",
   "execution_count": 8,
   "id": "32e8433f-40d1-4734-99ab-49b258944090",
   "metadata": {},
   "outputs": [],
   "source": [
    "unit_sold = np.random.randint(1,100,n_records)"
   ]
  },
  {
   "cell_type": "code",
   "execution_count": 9,
   "id": "bd51e956-d2c9-43ad-b557-975abf0dc0f4",
   "metadata": {},
   "outputs": [],
   "source": [
    "unit_price = np.random.uniform(10,100,n_records)"
   ]
  },
  {
   "cell_type": "code",
   "execution_count": 11,
   "id": "9d3b25aa-8d41-4959-941c-80042b212929",
   "metadata": {},
   "outputs": [],
   "source": [
    "total_sale = unit_sold*unit_price "
   ]
  },
  {
   "cell_type": "raw",
   "id": "3813e690-99ec-47ed-8403-e2630d4f4919",
   "metadata": {},
   "source": [
    "print(total_sale)"
   ]
  },
  {
   "cell_type": "code",
   "execution_count": 23,
   "id": "695db4e7-684f-4334-8798-cd42375a6f8d",
   "metadata": {},
   "outputs": [],
   "source": [
    "nan_indices = np.random.choice(n_records , size = int(0.05*n_records), replace = False)"
   ]
  },
  {
   "cell_type": "code",
   "execution_count": 24,
   "id": "d2145ca1-5b93-4a86-9f61-15ec6cdbc0c3",
   "metadata": {},
   "outputs": [],
   "source": [
    "unit_price[nan_indices] = np.nan"
   ]
  },
  {
   "cell_type": "code",
   "execution_count": 25,
   "id": "aaaa5814-892a-4c54-93ba-49d1473ba7d9",
   "metadata": {
    "scrolled": true
   },
   "outputs": [],
   "source": [
    "unit_sold = unit_sold.astype(float)"
   ]
  },
  {
   "cell_type": "code",
   "execution_count": 26,
   "id": "6561d9f5-ebe2-4f87-b87d-e0d466e57032",
   "metadata": {},
   "outputs": [],
   "source": [
    "unit_sold[nan_indices] = np.nan"
   ]
  },
  {
   "cell_type": "code",
   "execution_count": 27,
   "id": "7831e45c-eda6-4d07-98ab-b9ed9adfbfb4",
   "metadata": {},
   "outputs": [],
   "source": [
    "unit_sold[np.isnan(unit_sold)] = np.nanmean(unit_sold)"
   ]
  },
  {
   "cell_type": "code",
   "execution_count": 28,
   "id": "09e26e6b-2045-4293-b2b8-d862a3184fd5",
   "metadata": {},
   "outputs": [],
   "source": [
    "unit_price[np.isnan(unit_price)] = np.nanmean(unit_price)"
   ]
  },
  {
   "cell_type": "code",
   "execution_count": 30,
   "id": "e435047a-404f-43f7-a082-2feadbc16c5f",
   "metadata": {},
   "outputs": [],
   "source": [
    "total_sale = unit_sold * unit_price"
   ]
  },
  {
   "cell_type": "code",
   "execution_count": 31,
   "id": "046c9f94-28ce-44ce-876d-767eb40ddadf",
   "metadata": {},
   "outputs": [
    {
     "name": "stdout",
     "output_type": "stream",
     "text": [
      "[3054.14468899 2410.05606971 2941.80383312 1535.67677623 1795.07675907\n",
      " 1590.89566289 1560.10624059 2044.57189773 2308.75104425  847.58264424\n",
      " 1952.90062389 2308.75104425 3847.30437394 4932.01279754 2474.15697178\n",
      " 5809.89771671  730.5812969  3384.62953516   70.28319819 1120.22730066\n",
      " 1247.9596645  2823.26588405  695.33961799 3057.27477854  138.83229625\n",
      " 5148.4572179  1465.60428045 7972.50471565 5105.50464804   38.9509891\n",
      " 1669.31824751 2821.4649256  3278.44128591 1834.28006312  453.21031866\n",
      "  358.11683489 2316.46841813 2240.37954227  180.62395331 1137.9173929\n",
      " 9462.10880879 1740.96498432 1929.88925598  243.57473829 1784.84325645\n",
      " 1997.33323487 2671.85736244 1772.40904871 1598.05309483 2410.05606971]\n"
     ]
    }
   ],
   "source": [
    "print(total_sale)"
   ]
  },
  {
   "cell_type": "code",
   "execution_count": 34,
   "id": "194a64cb-a99d-493b-b02c-71d122a5e5b7",
   "metadata": {},
   "outputs": [],
   "source": [
    "numeric_data = np.column_stack((unit_sold,unit_price,total_sale))"
   ]
  },
  {
   "cell_type": "code",
   "execution_count": 35,
   "id": "4e15e7f3-75f7-4f21-80cc-ef42d6b7aedf",
   "metadata": {},
   "outputs": [
    {
     "name": "stdout",
     "output_type": "stream",
     "text": [
      "[[3.20000000e+01 9.54420215e+01 3.05414469e+03]\n",
      " [4.52873264e+01 5.32170093e+01 2.41005607e+03]\n",
      " [6.70000000e+01 4.39075199e+01 2.94180383e+03]\n",
      " [9.20000000e+01 1.66921389e+01 1.53567678e+03]\n",
      " [4.80000000e+01 3.73974325e+01 1.79507676e+03]\n",
      " [7.30000000e+01 2.17930913e+01 1.59089566e+03]\n",
      " [3.60000000e+01 4.33362845e+01 1.56010624e+03]\n",
      " [8.80000000e+01 2.32337716e+01 2.04457190e+03]\n",
      " [4.38958333e+01 5.25961320e+01 2.30875104e+03]\n",
      " [2.60000000e+01 3.25993325e+01 8.47582644e+02]\n",
      " [4.90000000e+01 3.98551148e+01 1.95290062e+03]\n",
      " [4.38958333e+01 5.25961320e+01 2.30875104e+03]\n",
      " [4.20000000e+01 9.16024851e+01 3.84730437e+03]\n",
      " [8.40000000e+01 5.87144381e+01 4.93201280e+03]\n",
      " [9.20000000e+01 2.68930106e+01 2.47415697e+03]\n",
      " [6.40000000e+01 9.07796518e+01 5.80989772e+03]\n",
      " [1.60000000e+01 4.56613311e+01 7.30581297e+02]\n",
      " [5.00000000e+01 6.76925907e+01 3.38462954e+03]\n",
      " [1.00000000e+00 7.02831982e+01 7.02831982e+01]\n",
      " [2.70000000e+01 4.14899000e+01 1.12022730e+03]\n",
      " [1.40000000e+01 8.91399760e+01 1.24795966e+03]\n",
      " [5.60000000e+01 5.04154622e+01 2.82326588e+03]\n",
      " [2.00000000e+01 3.47669809e+01 6.95339618e+02]\n",
      " [3.70000000e+01 8.26290481e+01 3.05727478e+03]\n",
      " [1.10000000e+01 1.26211178e+01 1.38832296e+02]\n",
      " [8.80000000e+01 5.85051957e+01 5.14845722e+03]\n",
      " [7.50000000e+01 1.95413904e+01 1.46560428e+03]\n",
      " [8.70000000e+01 9.16379852e+01 7.97250472e+03]\n",
      " [6.30000000e+01 8.10397563e+01 5.10550465e+03]\n",
      " [2.00000000e+00 1.94754945e+01 3.89509891e+01]\n",
      " [2.50000000e+01 6.67727299e+01 1.66931825e+03]\n",
      " [4.50000000e+01 6.26992206e+01 2.82146493e+03]\n",
      " [5.90000000e+01 5.55668015e+01 3.27844129e+03]\n",
      " [2.40000000e+01 7.64283360e+01 1.83428006e+03]\n",
      " [1.70000000e+01 2.66594305e+01 4.53210319e+02]\n",
      " [5.00000000e+00 7.16233670e+01 3.58116835e+02]\n",
      " [7.10000000e+01 3.26263157e+01 2.31646842e+03]\n",
      " [4.20000000e+01 5.33423701e+01 2.24037954e+03]\n",
      " [1.70000000e+01 1.06249384e+01 1.80623953e+02]\n",
      " [2.60000000e+01 4.37660536e+01 1.13791739e+03]\n",
      " [9.50000000e+01 9.96011454e+01 9.46210881e+03]\n",
      " [6.70000000e+01 2.59845520e+01 1.74096498e+03]\n",
      " [2.10000000e+01 9.18994884e+01 1.92988926e+03]\n",
      " [3.00000000e+00 8.11915794e+01 2.43574738e+02]\n",
      " [2.80000000e+01 6.37444020e+01 1.78484326e+03]\n",
      " [2.30000000e+01 8.68405754e+01 1.99733323e+03]\n",
      " [4.30000000e+01 6.21362177e+01 2.67185736e+03]\n",
      " [7.70000000e+01 2.30182993e+01 1.77240905e+03]\n",
      " [5.80000000e+01 2.75526396e+01 1.59805309e+03]\n",
      " [4.52873264e+01 5.32170093e+01 2.41005607e+03]]\n"
     ]
    }
   ],
   "source": [
    "ta"
   ]
  },
  {
   "cell_type": "code",
   "execution_count": null,
   "id": "4e850820-7744-4c79-92a6-5b4769d69023",
   "metadata": {},
   "outputs": [],
   "source": []
  }
 ],
 "metadata": {
  "kernelspec": {
   "display_name": "Python [conda env:base] *",
   "language": "python",
   "name": "conda-base-py"
  },
  "language_info": {
   "codemirror_mode": {
    "name": "ipython",
    "version": 3
   },
   "file_extension": ".py",
   "mimetype": "text/x-python",
   "name": "python",
   "nbconvert_exporter": "python",
   "pygments_lexer": "ipython3",
   "version": "3.13.5"
  }
 },
 "nbformat": 4,
 "nbformat_minor": 5
}
