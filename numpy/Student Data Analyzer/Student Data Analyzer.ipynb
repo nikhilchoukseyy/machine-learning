{
 "cells": [
  {
   "cell_type": "code",
   "execution_count": 1,
   "id": "2917cb13-1da2-4f1f-bd60-b6a354713054",
   "metadata": {},
   "outputs": [],
   "source": [
    "import numpy as np "
   ]
  },
  {
   "cell_type": "code",
   "execution_count": 2,
   "id": "68e4b284-1a52-45c9-9675-4d4cb7c60c14",
   "metadata": {},
   "outputs": [],
   "source": [
    "import os "
   ]
  },
  {
   "cell_type": "code",
   "execution_count": 3,
   "id": "c1cd8880-acc6-42db-ac1d-2e1033478f82",
   "metadata": {},
   "outputs": [],
   "source": [
    "import csv "
   ]
  },
  {
   "cell_type": "code",
   "execution_count": 4,
   "id": "d45f4079-a387-4cd0-98a4-c8016e20beb9",
   "metadata": {},
   "outputs": [],
   "source": [
    "filename = \"students_score.csv\""
   ]
  },
  {
   "cell_type": "code",
   "execution_count": 5,
   "id": "9b0de8bc-fee0-4b77-8e1c-70376a0ec305",
   "metadata": {},
   "outputs": [
    {
     "name": "stdout",
     "output_type": "stream",
     "text": [
      "Created : students_score.csv\n"
     ]
    }
   ],
   "source": [
    "if not os.path.exists(filename): \n",
    "    rows = [\n",
    "        [\"Name\",\"Math\",\"Science\",\"English\",\"History\"],\n",
    "        [\"Aditi\",85,90,88,75],\n",
    "        [\"Rahul\",78,82,79,80],\n",
    "        [\"Priya\",92,95,89,94],\n",
    "        [\"Arjun\",65,70,72,68],\n",
    "        [\"Neha\",88,85,90,92],\n",
    "        [\"Vikram\",55,60,58,62],\n",
    "        [\"Isha\",99,97,95,98],\n",
    "        [\"Sameer\",40,42,38,35],   # low scores for testing\n",
    "        [\"Kavya\",72,75,70,74],\n",
    "        [\"Rohan\",np.nan,68,70,66] # missing value example\n",
    "    ]\n",
    "\n",
    "    with open(filename,\"w\" , newline = \"\") as f : \n",
    "        writer = csv.writer(f)\n",
    "        writer.writerows(rows)\n",
    "    print(f\"Created : {filename}\")\n",
    "else : \n",
    "    print(f\"Using existing file : {filename}\")\n",
    "    "
   ]
  },
  {
   "cell_type": "code",
   "execution_count": 6,
   "id": "a47674fc-16cb-44f5-bd53-57985803f7eb",
   "metadata": {},
   "outputs": [],
   "source": [
    "names = np.genfromtxt(filename , delimiter = ',' , dtype = str , skip_header = 1 , usecols = 0 , encoding = 'utf-8')"
   ]
  },
  {
   "cell_type": "code",
   "execution_count": 7,
   "id": "65125f9c-2022-49f4-aa5a-5d1eef40fcc4",
   "metadata": {},
   "outputs": [],
   "source": [
    "scores = np.loadtxt(filename , delimiter = ',' , dtype = float , skiprows = 1 , usecols = range(1,5) , )"
   ]
  },
  {
   "cell_type": "code",
   "execution_count": 8,
   "id": "6239c037-caa8-45c7-a358-5fd4680dcd97",
   "metadata": {},
   "outputs": [],
   "source": [
    "n_students , n_subjects = scores.shape "
   ]
  },
  {
   "cell_type": "code",
   "execution_count": 9,
   "id": "5da2c291-3dca-4e6c-9b53-660c67eb8853",
   "metadata": {},
   "outputs": [],
   "source": [
    "col_mean = np.nanmean(scores,axis=0)"
   ]
  },
  {
   "cell_type": "code",
   "execution_count": 10,
   "id": "7ccc7b3e-21cf-48ba-b219-7edcdaab2c9d",
   "metadata": {},
   "outputs": [],
   "source": [
    "nanmask = np.isnan(scores)"
   ]
  },
  {
   "cell_type": "code",
   "execution_count": 11,
   "id": "0c6ea19f-4459-43a9-a851-c4503d12b4a7",
   "metadata": {},
   "outputs": [],
   "source": [
    "scores[nanmask] = np.take(col_mean , np.where(nanmask)[1])"
   ]
  },
  {
   "cell_type": "code",
   "execution_count": null,
   "id": "3a1d813c-1647-47ce-8854-01d8c5635885",
   "metadata": {},
   "outputs": [],
   "source": []
  }
 ],
 "metadata": {
  "kernelspec": {
   "display_name": "Python [conda env:base] *",
   "language": "python",
   "name": "conda-base-py"
  },
  "language_info": {
   "codemirror_mode": {
    "name": "ipython",
    "version": 3
   },
   "file_extension": ".py",
   "mimetype": "text/x-python",
   "name": "python",
   "nbconvert_exporter": "python",
   "pygments_lexer": "ipython3",
   "version": "3.13.5"
  }
 },
 "nbformat": 4,
 "nbformat_minor": 5
}
